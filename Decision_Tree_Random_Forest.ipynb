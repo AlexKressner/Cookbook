{
  "cells": [
    {
      "cell_type": "markdown",
      "metadata": {
        "id": "view-in-github",
        "colab_type": "text"
      },
      "source": [
        "<a href=\"https://colab.research.google.com/github/AlexKressner/Cookbook/blob/master/Decision_Tree_Random_Forest.ipynb\" target=\"_parent\"><img src=\"https://colab.research.google.com/assets/colab-badge.svg\" alt=\"Open In Colab\"/></a>"
      ]
    },
    {
      "cell_type": "markdown",
      "source": [
        "# Regression Tree, Beispiel Immobilienpreise\n",
        "\n"
      ],
      "metadata": {
        "id": "TlEeS6BHfKV9"
      },
      "id": "TlEeS6BHfKV9"
    },
    {
      "cell_type": "markdown",
      "source": [
        "## 1 Daten aus Goolge-Drive importieren"
      ],
      "metadata": {
        "id": "fosefoRciSNO"
      },
      "id": "fosefoRciSNO"
    },
    {
      "cell_type": "code",
      "source": [
        "import pandas as pd"
      ],
      "metadata": {
        "id": "LGrl_jqcfXzd"
      },
      "id": "LGrl_jqcfXzd",
      "execution_count": null,
      "outputs": []
    },
    {
      "cell_type": "code",
      "source": [
        "# Google-Drive einbinden\n",
        "from google.colab import drive\n",
        "drive.mount('/content/drive')"
      ],
      "metadata": {
        "id": "I-5QslQG1kr3",
        "colab": {
          "base_uri": "https://localhost:8080/"
        },
        "outputId": "f4b3b9bd-6556-479d-c139-e1bc9d889394"
      },
      "id": "I-5QslQG1kr3",
      "execution_count": null,
      "outputs": [
        {
          "output_type": "stream",
          "name": "stdout",
          "text": [
            "Drive already mounted at /content/drive; to attempt to forcibly remount, call drive.mount(\"/content/drive\", force_remount=True).\n"
          ]
        }
      ]
    },
    {
      "cell_type": "code",
      "source": [
        "path = \"/content/drive/MyDrive/DHBW/BI/Daten/\""
      ],
      "metadata": {
        "id": "oL-HwWpZeg-J"
      },
      "id": "oL-HwWpZeg-J",
      "execution_count": null,
      "outputs": []
    },
    {
      "cell_type": "code",
      "source": [
        "# Datentypen für das Laden der Daten definieren\n",
        "# Beispiel: Zwar handelt es sich beim Baujahr um eine Zahl, allerdings interessiert uns\n",
        "# hier nur, ob eine Immobilie in einem Jahr gebaut wurde oder eben nicht. \n",
        "dtypes = {\n",
        "    \"Verkaufsmonat\": \"str\",\n",
        "    \"Baujahr\": \"str\",\n",
        "}"
      ],
      "metadata": {
        "id": "si2UIYtXgBSB"
      },
      "id": "si2UIYtXgBSB",
      "execution_count": null,
      "outputs": []
    },
    {
      "cell_type": "code",
      "source": [
        "# Relevante Spalten definiere\n",
        "cols = [\n",
        "    \"Verkaufspreis\",\"Verkaufsmonat\",\"Wohnraum_qm\",\n",
        "    \"Keller_qm\", \"Grundstueck_qm\",\"Baujahr\"\n",
        "    ]"
      ],
      "metadata": {
        "id": "l_1OmbXGhhsB"
      },
      "id": "l_1OmbXGhhsB",
      "execution_count": null,
      "outputs": []
    },
    {
      "cell_type": "code",
      "source": [
        "# Daten laden\n",
        "data = pd.read_csv(f\"{path}house_price.txt\", dtype=dtypes, usecols=cols)"
      ],
      "metadata": {
        "id": "RgxArxyKgSSu"
      },
      "id": "RgxArxyKgSSu",
      "execution_count": null,
      "outputs": []
    },
    {
      "cell_type": "code",
      "source": [
        "data.head()"
      ],
      "metadata": {
        "id": "xxYFISLOgbiP",
        "colab": {
          "base_uri": "https://localhost:8080/",
          "height": 204
        },
        "outputId": "62b4d741-0b9c-44e1-8270-975814ebdd65"
      },
      "id": "xxYFISLOgbiP",
      "execution_count": null,
      "outputs": [
        {
          "output_type": "execute_result",
          "data": {
            "text/plain": [
              "   Verkaufspreis Verkaufsmonat  Wohnraum_qm   Keller_qm  Grundstueck_qm  \\\n",
              "0         208500             2   521.341463  260.975610     2576.219512   \n",
              "1         181500             5   384.756098  384.756098     2926.829268   \n",
              "2         223500             9   544.512195  280.487805     3429.878049   \n",
              "3         140000             2   523.475610  230.487805     2911.585366   \n",
              "4         250000            12   670.121951  349.085366     4347.560976   \n",
              "\n",
              "  Baujahr  \n",
              "0    2003  \n",
              "1    1976  \n",
              "2    2001  \n",
              "3    1915  \n",
              "4    2000  "
            ],
            "text/html": [
              "\n",
              "  <div id=\"df-cfbc618a-1caa-4159-81a8-776805bdb251\">\n",
              "    <div class=\"colab-df-container\">\n",
              "      <div>\n",
              "<style scoped>\n",
              "    .dataframe tbody tr th:only-of-type {\n",
              "        vertical-align: middle;\n",
              "    }\n",
              "\n",
              "    .dataframe tbody tr th {\n",
              "        vertical-align: top;\n",
              "    }\n",
              "\n",
              "    .dataframe thead th {\n",
              "        text-align: right;\n",
              "    }\n",
              "</style>\n",
              "<table border=\"1\" class=\"dataframe\">\n",
              "  <thead>\n",
              "    <tr style=\"text-align: right;\">\n",
              "      <th></th>\n",
              "      <th>Verkaufspreis</th>\n",
              "      <th>Verkaufsmonat</th>\n",
              "      <th>Wohnraum_qm</th>\n",
              "      <th>Keller_qm</th>\n",
              "      <th>Grundstueck_qm</th>\n",
              "      <th>Baujahr</th>\n",
              "    </tr>\n",
              "  </thead>\n",
              "  <tbody>\n",
              "    <tr>\n",
              "      <th>0</th>\n",
              "      <td>208500</td>\n",
              "      <td>2</td>\n",
              "      <td>521.341463</td>\n",
              "      <td>260.975610</td>\n",
              "      <td>2576.219512</td>\n",
              "      <td>2003</td>\n",
              "    </tr>\n",
              "    <tr>\n",
              "      <th>1</th>\n",
              "      <td>181500</td>\n",
              "      <td>5</td>\n",
              "      <td>384.756098</td>\n",
              "      <td>384.756098</td>\n",
              "      <td>2926.829268</td>\n",
              "      <td>1976</td>\n",
              "    </tr>\n",
              "    <tr>\n",
              "      <th>2</th>\n",
              "      <td>223500</td>\n",
              "      <td>9</td>\n",
              "      <td>544.512195</td>\n",
              "      <td>280.487805</td>\n",
              "      <td>3429.878049</td>\n",
              "      <td>2001</td>\n",
              "    </tr>\n",
              "    <tr>\n",
              "      <th>3</th>\n",
              "      <td>140000</td>\n",
              "      <td>2</td>\n",
              "      <td>523.475610</td>\n",
              "      <td>230.487805</td>\n",
              "      <td>2911.585366</td>\n",
              "      <td>1915</td>\n",
              "    </tr>\n",
              "    <tr>\n",
              "      <th>4</th>\n",
              "      <td>250000</td>\n",
              "      <td>12</td>\n",
              "      <td>670.121951</td>\n",
              "      <td>349.085366</td>\n",
              "      <td>4347.560976</td>\n",
              "      <td>2000</td>\n",
              "    </tr>\n",
              "  </tbody>\n",
              "</table>\n",
              "</div>\n",
              "      <button class=\"colab-df-convert\" onclick=\"convertToInteractive('df-cfbc618a-1caa-4159-81a8-776805bdb251')\"\n",
              "              title=\"Convert this dataframe to an interactive table.\"\n",
              "              style=\"display:none;\">\n",
              "        \n",
              "  <svg xmlns=\"http://www.w3.org/2000/svg\" height=\"24px\"viewBox=\"0 0 24 24\"\n",
              "       width=\"24px\">\n",
              "    <path d=\"M0 0h24v24H0V0z\" fill=\"none\"/>\n",
              "    <path d=\"M18.56 5.44l.94 2.06.94-2.06 2.06-.94-2.06-.94-.94-2.06-.94 2.06-2.06.94zm-11 1L8.5 8.5l.94-2.06 2.06-.94-2.06-.94L8.5 2.5l-.94 2.06-2.06.94zm10 10l.94 2.06.94-2.06 2.06-.94-2.06-.94-.94-2.06-.94 2.06-2.06.94z\"/><path d=\"M17.41 7.96l-1.37-1.37c-.4-.4-.92-.59-1.43-.59-.52 0-1.04.2-1.43.59L10.3 9.45l-7.72 7.72c-.78.78-.78 2.05 0 2.83L4 21.41c.39.39.9.59 1.41.59.51 0 1.02-.2 1.41-.59l7.78-7.78 2.81-2.81c.8-.78.8-2.07 0-2.86zM5.41 20L4 18.59l7.72-7.72 1.47 1.35L5.41 20z\"/>\n",
              "  </svg>\n",
              "      </button>\n",
              "      \n",
              "  <style>\n",
              "    .colab-df-container {\n",
              "      display:flex;\n",
              "      flex-wrap:wrap;\n",
              "      gap: 12px;\n",
              "    }\n",
              "\n",
              "    .colab-df-convert {\n",
              "      background-color: #E8F0FE;\n",
              "      border: none;\n",
              "      border-radius: 50%;\n",
              "      cursor: pointer;\n",
              "      display: none;\n",
              "      fill: #1967D2;\n",
              "      height: 32px;\n",
              "      padding: 0 0 0 0;\n",
              "      width: 32px;\n",
              "    }\n",
              "\n",
              "    .colab-df-convert:hover {\n",
              "      background-color: #E2EBFA;\n",
              "      box-shadow: 0px 1px 2px rgba(60, 64, 67, 0.3), 0px 1px 3px 1px rgba(60, 64, 67, 0.15);\n",
              "      fill: #174EA6;\n",
              "    }\n",
              "\n",
              "    [theme=dark] .colab-df-convert {\n",
              "      background-color: #3B4455;\n",
              "      fill: #D2E3FC;\n",
              "    }\n",
              "\n",
              "    [theme=dark] .colab-df-convert:hover {\n",
              "      background-color: #434B5C;\n",
              "      box-shadow: 0px 1px 3px 1px rgba(0, 0, 0, 0.15);\n",
              "      filter: drop-shadow(0px 1px 2px rgba(0, 0, 0, 0.3));\n",
              "      fill: #FFFFFF;\n",
              "    }\n",
              "  </style>\n",
              "\n",
              "      <script>\n",
              "        const buttonEl =\n",
              "          document.querySelector('#df-cfbc618a-1caa-4159-81a8-776805bdb251 button.colab-df-convert');\n",
              "        buttonEl.style.display =\n",
              "          google.colab.kernel.accessAllowed ? 'block' : 'none';\n",
              "\n",
              "        async function convertToInteractive(key) {\n",
              "          const element = document.querySelector('#df-cfbc618a-1caa-4159-81a8-776805bdb251');\n",
              "          const dataTable =\n",
              "            await google.colab.kernel.invokeFunction('convertToInteractive',\n",
              "                                                     [key], {});\n",
              "          if (!dataTable) return;\n",
              "\n",
              "          const docLinkHtml = 'Like what you see? Visit the ' +\n",
              "            '<a target=\"_blank\" href=https://colab.research.google.com/notebooks/data_table.ipynb>data table notebook</a>'\n",
              "            + ' to learn more about interactive tables.';\n",
              "          element.innerHTML = '';\n",
              "          dataTable['output_type'] = 'display_data';\n",
              "          await google.colab.output.renderOutput(dataTable, element);\n",
              "          const docLink = document.createElement('div');\n",
              "          docLink.innerHTML = docLinkHtml;\n",
              "          element.appendChild(docLink);\n",
              "        }\n",
              "      </script>\n",
              "    </div>\n",
              "  </div>\n",
              "  "
            ]
          },
          "metadata": {},
          "execution_count": 57
        }
      ]
    },
    {
      "cell_type": "markdown",
      "source": [
        "## 2 Erster Überblick zum Datensatz"
      ],
      "metadata": {
        "id": "KkHlMAifQF9l"
      },
      "id": "KkHlMAifQF9l"
    },
    {
      "cell_type": "code",
      "source": [
        "# Kopfzeile der Daten\n",
        "data.head()"
      ],
      "metadata": {
        "id": "j6mUMYZ1hVXC",
        "colab": {
          "base_uri": "https://localhost:8080/",
          "height": 204
        },
        "outputId": "f206383d-cf37-44f3-ed42-0f4db9e5fe90"
      },
      "id": "j6mUMYZ1hVXC",
      "execution_count": null,
      "outputs": [
        {
          "output_type": "execute_result",
          "data": {
            "text/plain": [
              "   Verkaufspreis Verkaufsmonat  Wohnraum_qm   Keller_qm  Grundstueck_qm  \\\n",
              "0         208500             2   521.341463  260.975610     2576.219512   \n",
              "1         181500             5   384.756098  384.756098     2926.829268   \n",
              "2         223500             9   544.512195  280.487805     3429.878049   \n",
              "3         140000             2   523.475610  230.487805     2911.585366   \n",
              "4         250000            12   670.121951  349.085366     4347.560976   \n",
              "\n",
              "  Baujahr  \n",
              "0    2003  \n",
              "1    1976  \n",
              "2    2001  \n",
              "3    1915  \n",
              "4    2000  "
            ],
            "text/html": [
              "\n",
              "  <div id=\"df-ca62eca0-e399-4e82-8909-61f85b169f11\">\n",
              "    <div class=\"colab-df-container\">\n",
              "      <div>\n",
              "<style scoped>\n",
              "    .dataframe tbody tr th:only-of-type {\n",
              "        vertical-align: middle;\n",
              "    }\n",
              "\n",
              "    .dataframe tbody tr th {\n",
              "        vertical-align: top;\n",
              "    }\n",
              "\n",
              "    .dataframe thead th {\n",
              "        text-align: right;\n",
              "    }\n",
              "</style>\n",
              "<table border=\"1\" class=\"dataframe\">\n",
              "  <thead>\n",
              "    <tr style=\"text-align: right;\">\n",
              "      <th></th>\n",
              "      <th>Verkaufspreis</th>\n",
              "      <th>Verkaufsmonat</th>\n",
              "      <th>Wohnraum_qm</th>\n",
              "      <th>Keller_qm</th>\n",
              "      <th>Grundstueck_qm</th>\n",
              "      <th>Baujahr</th>\n",
              "    </tr>\n",
              "  </thead>\n",
              "  <tbody>\n",
              "    <tr>\n",
              "      <th>0</th>\n",
              "      <td>208500</td>\n",
              "      <td>2</td>\n",
              "      <td>521.341463</td>\n",
              "      <td>260.975610</td>\n",
              "      <td>2576.219512</td>\n",
              "      <td>2003</td>\n",
              "    </tr>\n",
              "    <tr>\n",
              "      <th>1</th>\n",
              "      <td>181500</td>\n",
              "      <td>5</td>\n",
              "      <td>384.756098</td>\n",
              "      <td>384.756098</td>\n",
              "      <td>2926.829268</td>\n",
              "      <td>1976</td>\n",
              "    </tr>\n",
              "    <tr>\n",
              "      <th>2</th>\n",
              "      <td>223500</td>\n",
              "      <td>9</td>\n",
              "      <td>544.512195</td>\n",
              "      <td>280.487805</td>\n",
              "      <td>3429.878049</td>\n",
              "      <td>2001</td>\n",
              "    </tr>\n",
              "    <tr>\n",
              "      <th>3</th>\n",
              "      <td>140000</td>\n",
              "      <td>2</td>\n",
              "      <td>523.475610</td>\n",
              "      <td>230.487805</td>\n",
              "      <td>2911.585366</td>\n",
              "      <td>1915</td>\n",
              "    </tr>\n",
              "    <tr>\n",
              "      <th>4</th>\n",
              "      <td>250000</td>\n",
              "      <td>12</td>\n",
              "      <td>670.121951</td>\n",
              "      <td>349.085366</td>\n",
              "      <td>4347.560976</td>\n",
              "      <td>2000</td>\n",
              "    </tr>\n",
              "  </tbody>\n",
              "</table>\n",
              "</div>\n",
              "      <button class=\"colab-df-convert\" onclick=\"convertToInteractive('df-ca62eca0-e399-4e82-8909-61f85b169f11')\"\n",
              "              title=\"Convert this dataframe to an interactive table.\"\n",
              "              style=\"display:none;\">\n",
              "        \n",
              "  <svg xmlns=\"http://www.w3.org/2000/svg\" height=\"24px\"viewBox=\"0 0 24 24\"\n",
              "       width=\"24px\">\n",
              "    <path d=\"M0 0h24v24H0V0z\" fill=\"none\"/>\n",
              "    <path d=\"M18.56 5.44l.94 2.06.94-2.06 2.06-.94-2.06-.94-.94-2.06-.94 2.06-2.06.94zm-11 1L8.5 8.5l.94-2.06 2.06-.94-2.06-.94L8.5 2.5l-.94 2.06-2.06.94zm10 10l.94 2.06.94-2.06 2.06-.94-2.06-.94-.94-2.06-.94 2.06-2.06.94z\"/><path d=\"M17.41 7.96l-1.37-1.37c-.4-.4-.92-.59-1.43-.59-.52 0-1.04.2-1.43.59L10.3 9.45l-7.72 7.72c-.78.78-.78 2.05 0 2.83L4 21.41c.39.39.9.59 1.41.59.51 0 1.02-.2 1.41-.59l7.78-7.78 2.81-2.81c.8-.78.8-2.07 0-2.86zM5.41 20L4 18.59l7.72-7.72 1.47 1.35L5.41 20z\"/>\n",
              "  </svg>\n",
              "      </button>\n",
              "      \n",
              "  <style>\n",
              "    .colab-df-container {\n",
              "      display:flex;\n",
              "      flex-wrap:wrap;\n",
              "      gap: 12px;\n",
              "    }\n",
              "\n",
              "    .colab-df-convert {\n",
              "      background-color: #E8F0FE;\n",
              "      border: none;\n",
              "      border-radius: 50%;\n",
              "      cursor: pointer;\n",
              "      display: none;\n",
              "      fill: #1967D2;\n",
              "      height: 32px;\n",
              "      padding: 0 0 0 0;\n",
              "      width: 32px;\n",
              "    }\n",
              "\n",
              "    .colab-df-convert:hover {\n",
              "      background-color: #E2EBFA;\n",
              "      box-shadow: 0px 1px 2px rgba(60, 64, 67, 0.3), 0px 1px 3px 1px rgba(60, 64, 67, 0.15);\n",
              "      fill: #174EA6;\n",
              "    }\n",
              "\n",
              "    [theme=dark] .colab-df-convert {\n",
              "      background-color: #3B4455;\n",
              "      fill: #D2E3FC;\n",
              "    }\n",
              "\n",
              "    [theme=dark] .colab-df-convert:hover {\n",
              "      background-color: #434B5C;\n",
              "      box-shadow: 0px 1px 3px 1px rgba(0, 0, 0, 0.15);\n",
              "      filter: drop-shadow(0px 1px 2px rgba(0, 0, 0, 0.3));\n",
              "      fill: #FFFFFF;\n",
              "    }\n",
              "  </style>\n",
              "\n",
              "      <script>\n",
              "        const buttonEl =\n",
              "          document.querySelector('#df-ca62eca0-e399-4e82-8909-61f85b169f11 button.colab-df-convert');\n",
              "        buttonEl.style.display =\n",
              "          google.colab.kernel.accessAllowed ? 'block' : 'none';\n",
              "\n",
              "        async function convertToInteractive(key) {\n",
              "          const element = document.querySelector('#df-ca62eca0-e399-4e82-8909-61f85b169f11');\n",
              "          const dataTable =\n",
              "            await google.colab.kernel.invokeFunction('convertToInteractive',\n",
              "                                                     [key], {});\n",
              "          if (!dataTable) return;\n",
              "\n",
              "          const docLinkHtml = 'Like what you see? Visit the ' +\n",
              "            '<a target=\"_blank\" href=https://colab.research.google.com/notebooks/data_table.ipynb>data table notebook</a>'\n",
              "            + ' to learn more about interactive tables.';\n",
              "          element.innerHTML = '';\n",
              "          dataTable['output_type'] = 'display_data';\n",
              "          await google.colab.output.renderOutput(dataTable, element);\n",
              "          const docLink = document.createElement('div');\n",
              "          docLink.innerHTML = docLinkHtml;\n",
              "          element.appendChild(docLink);\n",
              "        }\n",
              "      </script>\n",
              "    </div>\n",
              "  </div>\n",
              "  "
            ]
          },
          "metadata": {},
          "execution_count": 58
        }
      ]
    },
    {
      "cell_type": "code",
      "source": [
        "# Größe des Datensatzes\n",
        "data.shape"
      ],
      "metadata": {
        "id": "qofiApAiQEuA",
        "colab": {
          "base_uri": "https://localhost:8080/"
        },
        "outputId": "2006d8e6-91ed-45e9-9eba-61c414574cd8"
      },
      "id": "qofiApAiQEuA",
      "execution_count": null,
      "outputs": [
        {
          "output_type": "execute_result",
          "data": {
            "text/plain": [
              "(1460, 6)"
            ]
          },
          "metadata": {},
          "execution_count": 59
        }
      ]
    },
    {
      "cell_type": "markdown",
      "source": [
        "## 3 Prognose mit einem Entscheidungsbaum"
      ],
      "metadata": {
        "id": "F6l0bN2Di_at"
      },
      "id": "F6l0bN2Di_at"
    },
    {
      "cell_type": "code",
      "source": [
        "# Features, d.h. womit lässt sich der Immobilienpreis vorhersagen!\n",
        "X = data.drop(columns=\"Verkaufspreis\")"
      ],
      "metadata": {
        "id": "jw9nsecciIA0"
      },
      "id": "jw9nsecciIA0",
      "execution_count": null,
      "outputs": []
    },
    {
      "cell_type": "code",
      "source": [
        "# Target, d.h. was soll prognostiziert werden!\n",
        "y = data[\"Verkaufspreis\"]"
      ],
      "metadata": {
        "id": "-R0p_tMFjN-f"
      },
      "id": "-R0p_tMFjN-f",
      "execution_count": null,
      "outputs": []
    },
    {
      "cell_type": "code",
      "source": [
        "# Kategoriale Features umcodieren\n",
        "X = pd.get_dummies(X)"
      ],
      "metadata": {
        "id": "faK9AhsNldxt"
      },
      "id": "faK9AhsNldxt",
      "execution_count": null,
      "outputs": []
    },
    {
      "cell_type": "code",
      "source": [
        "from sklearn.model_selection import train_test_split"
      ],
      "metadata": {
        "id": "khyiUcYRjdYA"
      },
      "id": "khyiUcYRjdYA",
      "execution_count": null,
      "outputs": []
    },
    {
      "cell_type": "code",
      "source": [
        "# Training Algorithmus: X_train (Features), y_train (Target)\n",
        "# Test des Algorithmus (Bewertung): X_test, y_test\n",
        "#     1) Algorithmus bekommt Daten (X_test), die er noch nicht kennt & macht Prognose\n",
        "#     2) Vergleich Prognose mit tatsächlichen Werte (y_test) --> Bewertung\n",
        "\n",
        "X_train, X_test, y_train, y_test = train_test_split(X, y, test_size=0.2, random_state=3)"
      ],
      "metadata": {
        "id": "wRR4swbcjkRI"
      },
      "id": "wRR4swbcjkRI",
      "execution_count": null,
      "outputs": []
    },
    {
      "cell_type": "code",
      "source": [
        "from sklearn.tree import DecisionTreeRegressor"
      ],
      "metadata": {
        "id": "x_31iuj8jvyc"
      },
      "id": "x_31iuj8jvyc",
      "execution_count": null,
      "outputs": []
    },
    {
      "cell_type": "code",
      "source": [
        "decision_tree = DecisionTreeRegressor(max_depth=3)"
      ],
      "metadata": {
        "id": "1GKdd-yxj73L"
      },
      "id": "1GKdd-yxj73L",
      "execution_count": null,
      "outputs": []
    },
    {
      "cell_type": "code",
      "source": [
        "decision_tree.fit(X_train, y_train)"
      ],
      "metadata": {
        "id": "lkvL69unCopG",
        "colab": {
          "base_uri": "https://localhost:8080/"
        },
        "outputId": "8969c841-bf10-49d0-a245-4ed67ea45066"
      },
      "id": "lkvL69unCopG",
      "execution_count": null,
      "outputs": [
        {
          "output_type": "execute_result",
          "data": {
            "text/plain": [
              "DecisionTreeRegressor(max_depth=3)"
            ]
          },
          "metadata": {},
          "execution_count": 67
        }
      ]
    },
    {
      "cell_type": "code",
      "source": [
        "from sklearn.metrics import mean_absolute_percentage_error"
      ],
      "metadata": {
        "id": "_xyKF1Di4cCg"
      },
      "id": "_xyKF1Di4cCg",
      "execution_count": null,
      "outputs": []
    },
    {
      "cell_type": "code",
      "source": [
        "mean_absolute_percentage_error(y_train, decision_tree.predict(X_train)) * 100"
      ],
      "metadata": {
        "id": "xWEafhPi4084",
        "colab": {
          "base_uri": "https://localhost:8080/"
        },
        "outputId": "709ec227-80ee-4e62-c22e-4cbf13e86e81"
      },
      "id": "xWEafhPi4084",
      "execution_count": null,
      "outputs": [
        {
          "output_type": "execute_result",
          "data": {
            "text/plain": [
              "21.323384183756566"
            ]
          },
          "metadata": {},
          "execution_count": 69
        }
      ]
    },
    {
      "cell_type": "code",
      "source": [
        "mean_absolute_percentage_error(y_test, decision_tree.predict(X_test)) * 100"
      ],
      "metadata": {
        "id": "stwNS8yF4jJW",
        "colab": {
          "base_uri": "https://localhost:8080/"
        },
        "outputId": "71033b4d-ae31-4e61-8b56-f2d87eab3660"
      },
      "id": "stwNS8yF4jJW",
      "execution_count": null,
      "outputs": [
        {
          "output_type": "execute_result",
          "data": {
            "text/plain": [
              "23.39020363066787"
            ]
          },
          "metadata": {},
          "execution_count": 70
        }
      ]
    },
    {
      "cell_type": "markdown",
      "source": [
        "## 4 Visualisierung des Entscheidungsbaums"
      ],
      "metadata": {
        "id": "SSQDCgtD8hBW"
      },
      "id": "SSQDCgtD8hBW"
    },
    {
      "cell_type": "code",
      "source": [
        "from sklearn import tree"
      ],
      "metadata": {
        "id": "jA1oMjdr-sZE"
      },
      "id": "jA1oMjdr-sZE",
      "execution_count": null,
      "outputs": []
    },
    {
      "cell_type": "code",
      "source": [
        "# Variante 1\n",
        "tree.plot_tree(decision_tree)"
      ],
      "metadata": {
        "id": "L4j8hyV15p3s",
        "colab": {
          "base_uri": "https://localhost:8080/",
          "height": 518
        },
        "outputId": "e9ca8e14-8b70-4ef9-9736-f9480d1a3707"
      },
      "id": "L4j8hyV15p3s",
      "execution_count": null,
      "outputs": [
        {
          "output_type": "execute_result",
          "data": {
            "text/plain": [
              "[Text(0.5, 0.875, 'X[0] <= 452.134\\nsquared_error = 6646809839.119\\nsamples = 1168\\nvalue = 181589.279'),\n",
              " Text(0.25, 0.625, 'X[1] <= 355.03\\nsquared_error = 1352712321.937\\nsamples = 614\\nvalue = 136361.438'),\n",
              " Text(0.125, 0.375, 'X[0] <= 319.817\\nsquared_error = 898922687.609\\nsamples = 485\\nvalue = 125767.21'),\n",
              " Text(0.0625, 0.125, 'squared_error = 712207465.295\\nsamples = 227\\nvalue = 113092.718'),\n",
              " Text(0.1875, 0.125, 'squared_error = 797504499.665\\nsamples = 258\\nvalue = 136918.798'),\n",
              " Text(0.375, 0.375, 'X[1] <= 441.311\\nsquared_error = 1050332350.387\\nsamples = 129\\nvalue = 176192.45'),\n",
              " Text(0.3125, 0.125, 'squared_error = 917692609.325\\nsamples = 118\\nvalue = 172862.746'),\n",
              " Text(0.4375, 0.125, 'squared_error = 1078441193.719\\nsamples = 11\\nvalue = 211911.091'),\n",
              " Text(0.75, 0.625, 'X[1] <= 515.701\\nsquared_error = 7734544952.582\\nsamples = 554\\nvalue = 231715.442'),\n",
              " Text(0.625, 0.375, 'X[0] <= 727.439\\nsquared_error = 3970242438.032\\nsamples = 474\\nvalue = 212895.259'),\n",
              " Text(0.5625, 0.125, 'squared_error = 2533272328.578\\nsamples = 423\\nvalue = 201474.827'),\n",
              " Text(0.6875, 0.125, 'squared_error = 5834536343.83\\nsamples = 51\\nvalue = 307617.667'),\n",
              " Text(0.875, 0.375, 'X[0] <= 828.049\\nsquared_error = 15505019578.249\\nsamples = 80\\nvalue = 343225.025'),\n",
              " Text(0.8125, 0.125, 'squared_error = 8797078851.74\\nsamples = 70\\nvalue = 317808.343'),\n",
              " Text(0.9375, 0.125, 'squared_error = 26284171719.36\\nsamples = 10\\nvalue = 521141.8')]"
            ]
          },
          "metadata": {},
          "execution_count": 72
        },
        {
          "output_type": "display_data",
          "data": {
            "text/plain": [
              "<Figure size 432x288 with 1 Axes>"
            ],
            "image/png": "[encoded data removed]"
          },
          "metadata": {
            "needs_background": "light"
          }
        }
      ]
    },
    {
      "cell_type": "code",
      "source": [
        "from sklearn.tree import export_graphviz"
      ],
      "metadata": {
        "id": "0o14iW5u6HPE"
      },
      "id": "0o14iW5u6HPE",
      "execution_count": null,
      "outputs": []
    },
    {
      "cell_type": "code",
      "source": [
        "# Variante 2\n",
        "# 1. Schritt: Exportieren des Entscheidungsbaums in eine .dot Datei\n",
        "export_graphviz(\n",
        "    decision_tree,\n",
        "    out_file=\"/content/drive/MyDrive/DHBW/BI/tree.dot\",\n",
        "    feature_names=decision_tree.feature_names_in_,\n",
        "    rounded=True,\n",
        "    filled=True\n",
        ")"
      ],
      "metadata": {
        "id": "JVJiIIK_7Jvw"
      },
      "id": "JVJiIIK_7Jvw",
      "execution_count": null,
      "outputs": []
    },
    {
      "cell_type": "code",
      "source": [
        "# 2. Schritt: Umwandeln der .dot in eine .png Datei\n",
        "! dot -Tpng /content/drive/MyDrive/DHBW/BI/tree.dot -o /content/drive/MyDrive/DHBW/BI/tree.png"
      ],
      "metadata": {
        "id": "_AQ59IXr7phg"
      },
      "id": "_AQ59IXr7phg",
      "execution_count": null,
      "outputs": []
    },
    {
      "cell_type": "markdown",
      "source": [
        "# 5 Bestimmung optimaler Parameter für den Entscheidungsbaum"
      ],
      "metadata": {
        "id": "dSmJd8-fADv9"
      },
      "id": "dSmJd8-fADv9"
    },
    {
      "cell_type": "code",
      "source": [
        "from sklearn.model_selection import GridSearchCV"
      ],
      "metadata": {
        "id": "T2RSg9oJ7wtp"
      },
      "id": "T2RSg9oJ7wtp",
      "execution_count": null,
      "outputs": []
    },
    {
      "cell_type": "code",
      "source": [
        "# Grid definieren\n",
        "param_grid = {\n",
        "    \"max_depth\": [3, 4, 5, 6, 7] # Tiefe des Baums\n",
        "}"
      ],
      "metadata": {
        "id": "izD6cdcVAIPO"
      },
      "id": "izD6cdcVAIPO",
      "execution_count": null,
      "outputs": []
    },
    {
      "cell_type": "code",
      "source": [
        "decision_tree = DecisionTreeRegressor()"
      ],
      "metadata": {
        "id": "soZs36A1JTQN"
      },
      "id": "soZs36A1JTQN",
      "execution_count": null,
      "outputs": []
    },
    {
      "cell_type": "code",
      "source": [
        "grid = GridSearchCV(\n",
        "    decision_tree, # verwendetes Modell\n",
        "    param_grid, # zu untersuchende Parameter\n",
        "    cv=10, # Anzahl der Folds\n",
        "    n_jobs=-1, # Parallelisierung der Ausführung\n",
        "    scoring=\"neg_mean_squared_error\", # Fehlermaß\n",
        ")"
      ],
      "metadata": {
        "id": "Lv3Dp990AsnN"
      },
      "id": "Lv3Dp990AsnN",
      "execution_count": null,
      "outputs": []
    },
    {
      "cell_type": "code",
      "source": [
        "grid.fit(X_train, y_train)"
      ],
      "metadata": {
        "id": "DL3C60nBAumQ",
        "colab": {
          "base_uri": "https://localhost:8080/"
        },
        "outputId": "15ac5a91-b160-4124-a001-393e6928eade"
      },
      "id": "DL3C60nBAumQ",
      "execution_count": null,
      "outputs": [
        {
          "output_type": "execute_result",
          "data": {
            "text/plain": [
              "GridSearchCV(cv=10, estimator=DecisionTreeRegressor(), n_jobs=-1,\n",
              "             param_grid={'max_depth': [3, 4, 5, 6, 7]},\n",
              "             scoring='neg_mean_squared_error')"
            ]
          },
          "metadata": {},
          "execution_count": 80
        }
      ]
    },
    {
      "cell_type": "code",
      "source": [
        "grid_search_results = pd.DataFrame(grid.cv_results_)[\n",
        "    [\"mean_test_score\", \"std_test_score\", \"params\"]\n",
        "]\n",
        "grid_search_results"
      ],
      "metadata": {
        "id": "3Q3QeAd0BDSa",
        "colab": {
          "base_uri": "https://localhost:8080/",
          "height": 204
        },
        "outputId": "258aa159-7ada-461c-eb9b-08dc33f0593a"
      },
      "id": "3Q3QeAd0BDSa",
      "execution_count": null,
      "outputs": [
        {
          "output_type": "execute_result",
          "data": {
            "text/plain": [
              "   mean_test_score  std_test_score            params\n",
              "0    -2.934639e+09    9.545002e+08  {'max_depth': 3}\n",
              "1    -2.811271e+09    1.211715e+09  {'max_depth': 4}\n",
              "2    -2.892039e+09    1.345156e+09  {'max_depth': 5}\n",
              "3    -2.755803e+09    1.381649e+09  {'max_depth': 6}\n",
              "4    -2.578039e+09    1.126796e+09  {'max_depth': 7}"
            ],
            "text/html": [
              "\n",
              "  <div id=\"df-cd5985b5-e7b1-416f-a01c-4febd92b93c1\">\n",
              "    <div class=\"colab-df-container\">\n",
              "      <div>\n",
              "<style scoped>\n",
              "    .dataframe tbody tr th:only-of-type {\n",
              "        vertical-align: middle;\n",
              "    }\n",
              "\n",
              "    .dataframe tbody tr th {\n",
              "        vertical-align: top;\n",
              "    }\n",
              "\n",
              "    .dataframe thead th {\n",
              "        text-align: right;\n",
              "    }\n",
              "</style>\n",
              "<table border=\"1\" class=\"dataframe\">\n",
              "  <thead>\n",
              "    <tr style=\"text-align: right;\">\n",
              "      <th></th>\n",
              "      <th>mean_test_score</th>\n",
              "      <th>std_test_score</th>\n",
              "      <th>params</th>\n",
              "    </tr>\n",
              "  </thead>\n",
              "  <tbody>\n",
              "    <tr>\n",
              "      <th>0</th>\n",
              "      <td>-2.934639e+09</td>\n",
              "      <td>9.545002e+08</td>\n",
              "      <td>{'max_depth': 3}</td>\n",
              "    </tr>\n",
              "    <tr>\n",
              "      <th>1</th>\n",
              "      <td>-2.811271e+09</td>\n",
              "      <td>1.211715e+09</td>\n",
              "      <td>{'max_depth': 4}</td>\n",
              "    </tr>\n",
              "    <tr>\n",
              "      <th>2</th>\n",
              "      <td>-2.892039e+09</td>\n",
              "      <td>1.345156e+09</td>\n",
              "      <td>{'max_depth': 5}</td>\n",
              "    </tr>\n",
              "    <tr>\n",
              "      <th>3</th>\n",
              "      <td>-2.755803e+09</td>\n",
              "      <td>1.381649e+09</td>\n",
              "      <td>{'max_depth': 6}</td>\n",
              "    </tr>\n",
              "    <tr>\n",
              "      <th>4</th>\n",
              "      <td>-2.578039e+09</td>\n",
              "      <td>1.126796e+09</td>\n",
              "      <td>{'max_depth': 7}</td>\n",
              "    </tr>\n",
              "  </tbody>\n",
              "</table>\n",
              "</div>\n",
              "      <button class=\"colab-df-convert\" onclick=\"convertToInteractive('df-cd5985b5-e7b1-416f-a01c-4febd92b93c1')\"\n",
              "              title=\"Convert this dataframe to an interactive table.\"\n",
              "              style=\"display:none;\">\n",
              "        \n",
              "  <svg xmlns=\"http://www.w3.org/2000/svg\" height=\"24px\"viewBox=\"0 0 24 24\"\n",
              "       width=\"24px\">\n",
              "    <path d=\"M0 0h24v24H0V0z\" fill=\"none\"/>\n",
              "    <path d=\"M18.56 5.44l.94 2.06.94-2.06 2.06-.94-2.06-.94-.94-2.06-.94 2.06-2.06.94zm-11 1L8.5 8.5l.94-2.06 2.06-.94-2.06-.94L8.5 2.5l-.94 2.06-2.06.94zm10 10l.94 2.06.94-2.06 2.06-.94-2.06-.94-.94-2.06-.94 2.06-2.06.94z\"/><path d=\"M17.41 7.96l-1.37-1.37c-.4-.4-.92-.59-1.43-.59-.52 0-1.04.2-1.43.59L10.3 9.45l-7.72 7.72c-.78.78-.78 2.05 0 2.83L4 21.41c.39.39.9.59 1.41.59.51 0 1.02-.2 1.41-.59l7.78-7.78 2.81-2.81c.8-.78.8-2.07 0-2.86zM5.41 20L4 18.59l7.72-7.72 1.47 1.35L5.41 20z\"/>\n",
              "  </svg>\n",
              "      </button>\n",
              "      \n",
              "  <style>\n",
              "    .colab-df-container {\n",
              "      display:flex;\n",
              "      flex-wrap:wrap;\n",
              "      gap: 12px;\n",
              "    }\n",
              "\n",
              "    .colab-df-convert {\n",
              "      background-color: #E8F0FE;\n",
              "      border: none;\n",
              "      border-radius: 50%;\n",
              "      cursor: pointer;\n",
              "      display: none;\n",
              "      fill: #1967D2;\n",
              "      height: 32px;\n",
              "      padding: 0 0 0 0;\n",
              "      width: 32px;\n",
              "    }\n",
              "\n",
              "    .colab-df-convert:hover {\n",
              "      background-color: #E2EBFA;\n",
              "      box-shadow: 0px 1px 2px rgba(60, 64, 67, 0.3), 0px 1px 3px 1px rgba(60, 64, 67, 0.15);\n",
              "      fill: #174EA6;\n",
              "    }\n",
              "\n",
              "    [theme=dark] .colab-df-convert {\n",
              "      background-color: #3B4455;\n",
              "      fill: #D2E3FC;\n",
              "    }\n",
              "\n",
              "    [theme=dark] .colab-df-convert:hover {\n",
              "      background-color: #434B5C;\n",
              "      box-shadow: 0px 1px 3px 1px rgba(0, 0, 0, 0.15);\n",
              "      filter: drop-shadow(0px 1px 2px rgba(0, 0, 0, 0.3));\n",
              "      fill: #FFFFFF;\n",
              "    }\n",
              "  </style>\n",
              "\n",
              "      <script>\n",
              "        const buttonEl =\n",
              "          document.querySelector('#df-cd5985b5-e7b1-416f-a01c-4febd92b93c1 button.colab-df-convert');\n",
              "        buttonEl.style.display =\n",
              "          google.colab.kernel.accessAllowed ? 'block' : 'none';\n",
              "\n",
              "        async function convertToInteractive(key) {\n",
              "          const element = document.querySelector('#df-cd5985b5-e7b1-416f-a01c-4febd92b93c1');\n",
              "          const dataTable =\n",
              "            await google.colab.kernel.invokeFunction('convertToInteractive',\n",
              "                                                     [key], {});\n",
              "          if (!dataTable) return;\n",
              "\n",
              "          const docLinkHtml = 'Like what you see? Visit the ' +\n",
              "            '<a target=\"_blank\" href=https://colab.research.google.com/notebooks/data_table.ipynb>data table notebook</a>'\n",
              "            + ' to learn more about interactive tables.';\n",
              "          element.innerHTML = '';\n",
              "          dataTable['output_type'] = 'display_data';\n",
              "          await google.colab.output.renderOutput(dataTable, element);\n",
              "          const docLink = document.createElement('div');\n",
              "          docLink.innerHTML = docLinkHtml;\n",
              "          element.appendChild(docLink);\n",
              "        }\n",
              "      </script>\n",
              "    </div>\n",
              "  </div>\n",
              "  "
            ]
          },
          "metadata": {},
          "execution_count": 81
        }
      ]
    },
    {
      "cell_type": "code",
      "source": [
        "# Auswahl des besten Modells\n",
        "best_model = grid.best_estimator_"
      ],
      "metadata": {
        "id": "zVwt1Ba_BH7M"
      },
      "id": "zVwt1Ba_BH7M",
      "execution_count": null,
      "outputs": []
    },
    {
      "cell_type": "code",
      "source": [
        "best_model.get_params()"
      ],
      "metadata": {
        "id": "l524forQBVYe",
        "colab": {
          "base_uri": "https://localhost:8080/"
        },
        "outputId": "659ca309-8077-46e6-fd40-63a8820fcda2"
      },
      "id": "l524forQBVYe",
      "execution_count": null,
      "outputs": [
        {
          "output_type": "execute_result",
          "data": {
            "text/plain": [
              "{'ccp_alpha': 0.0,\n",
              " 'criterion': 'squared_error',\n",
              " 'max_depth': 7,\n",
              " 'max_features': None,\n",
              " 'max_leaf_nodes': None,\n",
              " 'min_impurity_decrease': 0.0,\n",
              " 'min_samples_leaf': 1,\n",
              " 'min_samples_split': 2,\n",
              " 'min_weight_fraction_leaf': 0.0,\n",
              " 'random_state': None,\n",
              " 'splitter': 'best'}"
            ]
          },
          "metadata": {},
          "execution_count": 83
        }
      ]
    },
    {
      "cell_type": "code",
      "source": [
        "mean_absolute_percentage_error(y_train, best_model.predict(X_train)) * 100"
      ],
      "metadata": {
        "id": "930lPmB6BjQ1",
        "colab": {
          "base_uri": "https://localhost:8080/"
        },
        "outputId": "5399b132-7580-4eb3-e69d-15f01d666cfa"
      },
      "id": "930lPmB6BjQ1",
      "execution_count": null,
      "outputs": [
        {
          "output_type": "execute_result",
          "data": {
            "text/plain": [
              "12.665006089204079"
            ]
          },
          "metadata": {},
          "execution_count": 84
        }
      ]
    },
    {
      "cell_type": "code",
      "source": [
        "mean_absolute_percentage_error(y_test, best_model.predict(X_test)) * 100"
      ],
      "metadata": {
        "id": "K4oemA87BtIt",
        "colab": {
          "base_uri": "https://localhost:8080/"
        },
        "outputId": "0f300fd7-0110-4238-9d4e-647f5cf60b83"
      },
      "id": "K4oemA87BtIt",
      "execution_count": null,
      "outputs": [
        {
          "output_type": "execute_result",
          "data": {
            "text/plain": [
              "18.689304946576762"
            ]
          },
          "metadata": {},
          "execution_count": 85
        }
      ]
    },
    {
      "cell_type": "code",
      "source": [
        "# 1. Schritt: Exportieren des Entscheidungsbaums in eine .dot Datei\n",
        "export_graphviz(\n",
        "    best_model,\n",
        "    out_file=\"/content/drive/MyDrive/DHBW/BI/best_tree.dot\",\n",
        "    feature_names=best_model.feature_names_in_,\n",
        "    rounded=True,\n",
        "    filled=True\n",
        ")"
      ],
      "metadata": {
        "id": "ZKw8kAQEBwPw"
      },
      "id": "ZKw8kAQEBwPw",
      "execution_count": null,
      "outputs": []
    },
    {
      "cell_type": "code",
      "source": [
        "# 2. Schritt: Umwandeln der .dot in eine .png Datei\n",
        "! dot -Tpng /content/drive/MyDrive/DHBW/BI/best_tree.dot -o /content/drive/MyDrive/DHBW/BI/best_tree.png"
      ],
      "metadata": {
        "id": "UTwuOfbfDDgS"
      },
      "id": "UTwuOfbfDDgS",
      "execution_count": null,
      "outputs": []
    },
    {
      "cell_type": "markdown",
      "source": [
        "# Random Forest Regressor, Beispiel Immobilienpreise"
      ],
      "metadata": {
        "id": "i3bO2EgES_CA"
      },
      "id": "i3bO2EgES_CA"
    },
    {
      "cell_type": "code",
      "source": [
        "from sklearn.ensemble import RandomForestRegressor"
      ],
      "metadata": {
        "id": "klZSTCJPTY1J"
      },
      "id": "klZSTCJPTY1J",
      "execution_count": null,
      "outputs": []
    },
    {
      "cell_type": "code",
      "source": [
        "forest = RandomForestRegressor()"
      ],
      "metadata": {
        "id": "vLhgyIzxTdb4"
      },
      "id": "vLhgyIzxTdb4",
      "execution_count": null,
      "outputs": []
    },
    {
      "cell_type": "code",
      "source": [
        "# Grid definieren\n",
        "param_grid = {\n",
        "    \"max_depth\": [6, 7, 9], # maximale Tiefe des Baums\n",
        "    \"n_estimators\": [50, 150, 250] # Anzahl der Entscheidungsbäume\n",
        "}"
      ],
      "metadata": {
        "id": "el6BPjPfDINj"
      },
      "id": "el6BPjPfDINj",
      "execution_count": null,
      "outputs": []
    },
    {
      "cell_type": "code",
      "source": [
        "grid = GridSearchCV(\n",
        "    forest, # verwendetes Modell\n",
        "    param_grid, # zu untersuchende Parameter\n",
        "    cv=10, # Anzahl der Folds\n",
        "    n_jobs=-1, # Parallelisierung der Ausführung\n",
        "    scoring=\"neg_mean_squared_error\", # Fehlermaß\n",
        ")"
      ],
      "metadata": {
        "id": "5zcGkGSdTX6_"
      },
      "id": "5zcGkGSdTX6_",
      "execution_count": null,
      "outputs": []
    },
    {
      "cell_type": "code",
      "source": [
        "grid.fit(X_train, y_train)"
      ],
      "metadata": {
        "id": "nxcDKORTTjc-",
        "colab": {
          "base_uri": "https://localhost:8080/"
        },
        "outputId": "d90d0747-a5c4-40a5-ea6d-d98fed2ba7e0"
      },
      "id": "nxcDKORTTjc-",
      "execution_count": null,
      "outputs": [
        {
          "output_type": "execute_result",
          "data": {
            "text/plain": [
              "GridSearchCV(cv=10, estimator=RandomForestRegressor(), n_jobs=-1,\n",
              "             param_grid={'max_depth': [6, 7, 9, 12],\n",
              "                         'n_estimators': [50, 150, 250]},\n",
              "             scoring='neg_mean_squared_error')"
            ]
          },
          "metadata": {},
          "execution_count": 92
        }
      ]
    },
    {
      "cell_type": "code",
      "source": [
        "best_model = grid.best_estimator_\n",
        "best_model.get_params()"
      ],
      "metadata": {
        "id": "g-SWEO8pTmb-",
        "colab": {
          "base_uri": "https://localhost:8080/"
        },
        "outputId": "4289cf1d-c8de-451c-c279-063ce03dd829"
      },
      "id": "g-SWEO8pTmb-",
      "execution_count": null,
      "outputs": [
        {
          "output_type": "execute_result",
          "data": {
            "text/plain": [
              "{'bootstrap': True,\n",
              " 'ccp_alpha': 0.0,\n",
              " 'criterion': 'squared_error',\n",
              " 'max_depth': 12,\n",
              " 'max_features': 'auto',\n",
              " 'max_leaf_nodes': None,\n",
              " 'max_samples': None,\n",
              " 'min_impurity_decrease': 0.0,\n",
              " 'min_samples_leaf': 1,\n",
              " 'min_samples_split': 2,\n",
              " 'min_weight_fraction_leaf': 0.0,\n",
              " 'n_estimators': 250,\n",
              " 'n_jobs': None,\n",
              " 'oob_score': False,\n",
              " 'random_state': None,\n",
              " 'verbose': 0,\n",
              " 'warm_start': False}"
            ]
          },
          "metadata": {},
          "execution_count": 93
        }
      ]
    },
    {
      "cell_type": "code",
      "source": [
        "mean_absolute_percentage_error(y_train, best_model.predict(X_train)) * 100"
      ],
      "metadata": {
        "id": "ojgsDgL0TqFl",
        "colab": {
          "base_uri": "https://localhost:8080/"
        },
        "outputId": "45f2ea63-e961-4682-b89a-ffc70c331113"
      },
      "id": "ojgsDgL0TqFl",
      "execution_count": null,
      "outputs": [
        {
          "output_type": "execute_result",
          "data": {
            "text/plain": [
              "8.361574915196258"
            ]
          },
          "metadata": {},
          "execution_count": 94
        }
      ]
    },
    {
      "cell_type": "code",
      "source": [
        "mean_absolute_percentage_error(y_test, best_model.predict(X_test)) * 100"
      ],
      "metadata": {
        "id": "l_fDx328TreI",
        "colab": {
          "base_uri": "https://localhost:8080/"
        },
        "outputId": "8c7cd945-d007-489c-94da-8a715bb59400"
      },
      "id": "l_fDx328TreI",
      "execution_count": null,
      "outputs": [
        {
          "output_type": "execute_result",
          "data": {
            "text/plain": [
              "18.674757308018673"
            ]
          },
          "metadata": {},
          "execution_count": 95
        }
      ]
    },
    {
      "cell_type": "code",
      "source": [],
      "metadata": {
        "id": "in905666TuKB"
      },
      "id": "in905666TuKB",
      "execution_count": null,
      "outputs": []
    }
  ],
  "metadata": {
    "kernelspec": {
      "display_name": "Python 3 (ipykernel)",
      "language": "python",
      "name": "python3"
    },
    "language_info": {
      "codemirror_mode": {
        "name": "ipython",
        "version": 3
      },
      "file_extension": ".py",
      "mimetype": "text/x-python",
      "name": "python",
      "nbconvert_exporter": "python",
      "pygments_lexer": "ipython3",
      "version": "3.8.5"
    },
    "colab": {
      "provenance": [],
      "collapsed_sections": [
        "dSmJd8-fADv9"
      ],
      "include_colab_link": true
    }
  },
  "nbformat": 4,
  "nbformat_minor": 5
}